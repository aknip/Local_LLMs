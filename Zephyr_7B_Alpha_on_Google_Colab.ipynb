{
  "nbformat": 4,
  "nbformat_minor": 0,
  "metadata": {
    "colab": {
      "provenance": [],
      "gpuType": "T4",
      "include_colab_link": true
    },
    "kernelspec": {
      "name": "python3",
      "display_name": "Python 3"
    },
    "language_info": {
      "name": "python"
    },
    "accelerator": "GPU"
  },
  "cells": [
    {
      "cell_type": "markdown",
      "metadata": {
        "id": "view-in-github",
        "colab_type": "text"
      },
      "source": [
        "<a href=\"https://colab.research.google.com/github/aknip/Local_LLMs/blob/main/Zephyr_7B_Alpha_on_Google_Colab.ipynb\" target=\"_parent\"><img src=\"https://colab.research.google.com/assets/colab-badge.svg\" alt=\"Open In Colab\"/></a>"
      ]
    },
    {
      "cell_type": "markdown",
      "source": [
        "# Quick start to run Zephyr 7B Alpha on Google Colab\n",
        "\n",
        "-  A Low-Cost LLM Can Perform Better Than Llama-70B\n",
        "- There is an immediate way to play with the Zephyr-7B model. HuggingFace has created a space for inference. https://huggingfaceh4-zephyr-chat.hf.space/\n",
        "\n",
        "- Source: https://huggingface.co/HuggingFaceH4/zephyr-7b-alpha/blob/main/colab-demo.ipynb\n",
        "\n",
        "- Info: https://levelup.gitconnected.com/zephyr-7b-%CE%B1-a-low-cost-llm-can-perform-better-than-llama-70b-a2055dd028cb\n",
        "\n",
        "other:\n",
        "- https://github.com/aigeek0x0/zephyr-7b-alpha-langchain-chatbot"
      ],
      "metadata": {
        "id": "oSK6YKSx6H7m"
      }
    },
    {
      "cell_type": "markdown",
      "source": [
        "# 1. Variant (slower / bigger model?)"
      ],
      "metadata": {
        "id": "YAPAJA0ZLF0U"
      }
    },
    {
      "cell_type": "code",
      "source": [
        "!pip install ctransformers>=0.2.24\n",
        "!wget https://huggingface.co/TheBloke/zephyr-7B-alpha-GGUF/resolve/main/zephyr-7b-alpha.Q4_K_M.gguf"
      ],
      "metadata": {
        "id": "5v9CQqr2LJUQ"
      },
      "execution_count": null,
      "outputs": []
    },
    {
      "cell_type": "code",
      "source": [
        "# 1-2 min response time\n",
        "\n",
        "from ctransformers import AutoModelForCausalLM, AutoConfig, Config\n",
        "conf = AutoConfig(Config(temperature=0.7, repetition_penalty=1.1, batch_size=52,\n",
        "                max_new_tokens=1024, context_length=2048))\n",
        "llm = AutoModelForCausalLM.from_pretrained(\"/content/zephyr-7b-alpha.Q4_K_M.gguf\",\n",
        "                                           model_type=\"mistral\", config = conf)\n",
        "prompt = \"quel est le sens de la science?\"\n",
        "template = f'''<|system|>Reply in the target language of the prompt\n",
        "</s>\n",
        "<|user|>\n",
        "{prompt}</s>\n",
        "<|assistant|>\n",
        "'''\n",
        "print(llm(template))"
      ],
      "metadata": {
        "id": "LCt93vSrLQXV"
      },
      "execution_count": null,
      "outputs": []
    },
    {
      "cell_type": "markdown",
      "source": [
        "# 2. Variant"
      ],
      "metadata": {
        "id": "Tv5Ozn9ZK_0I"
      }
    },
    {
      "cell_type": "code",
      "source": [
        "# Install transformers from source - only needed for versions <= v4.34\n",
        "%%capture --no-stderr\n",
        "%pip install git+https://github.com/huggingface/transformers.git\n",
        "%pip install accelerate\n",
        "# or !pip install transformers accelerate"
      ],
      "metadata": {
        "id": "BLsaLpLP6QSK"
      },
      "execution_count": null,
      "outputs": []
    },
    {
      "cell_type": "markdown",
      "source": [
        "## Load dependencies"
      ],
      "metadata": {
        "id": "YK6Ux0Xy7D4o"
      }
    },
    {
      "cell_type": "code",
      "source": [
        "import re\n",
        "import torch\n",
        "import textwrap\n",
        "from transformers import pipeline"
      ],
      "metadata": {
        "id": "fLjPZ5ke6q8Y"
      },
      "execution_count": null,
      "outputs": []
    },
    {
      "cell_type": "markdown",
      "source": [
        "## Download model and load pipeline\n",
        "\n",
        "takes approx. 3 mins"
      ],
      "metadata": {
        "id": "e1mBWABw7MAQ"
      }
    },
    {
      "cell_type": "code",
      "source": [
        "pipe = pipeline(\"text-generation\", model=\"HuggingFaceH4/zephyr-7b-alpha\", torch_dtype=torch.bfloat16, device_map=\"auto\")"
      ],
      "metadata": {
        "id": "XMeitcMd7G-a"
      },
      "execution_count": null,
      "outputs": []
    },
    {
      "cell_type": "markdown",
      "source": [
        "# Helper functions"
      ],
      "metadata": {
        "id": "JdI19QYKeQ6V"
      }
    },
    {
      "cell_type": "code",
      "source": [
        "def extract_response_text(input_text):\n",
        "  input_text = outputs[0][\"generated_text\"]\n",
        "  match = re.search(r'\\<\\|assistant\\|\\>(.+)', input_text, re.DOTALL)\n",
        "  if match:\n",
        "      extracted_text = match.group(1).strip()\n",
        "  else:\n",
        "      extracted_text = input_text.strip()\n",
        "\n",
        "  return extracted_text"
      ],
      "metadata": {
        "id": "bvzwX6TxePYC"
      },
      "execution_count": null,
      "outputs": []
    },
    {
      "cell_type": "markdown",
      "source": [
        "## Prepare inputs"
      ],
      "metadata": {
        "id": "heIH5UYR71Ui"
      }
    },
    {
      "cell_type": "code",
      "source": [
        "# Each message can have 1 of 3 roles: \"system\" (to provide initial instructions), \"user\", or \"assistant\". For inference, make sure \"user\" is the role in the final message.\n",
        "messages = [\n",
        "    {\n",
        "        \"role\": \"system\",\n",
        "        \"content\": \"You are a friendly chatbot who always responds in the style of a pirate.\",\n",
        "    },\n",
        "    {\"role\": \"user\", \"content\": \"How many helicopters can a human eat in one sitting?\"},\n",
        "]\n",
        "# We use the tokenizer's chat template to format each message - see https://huggingface.co/docs/transformers/main/en/chat_templating\n",
        "prompt = pipe.tokenizer.apply_chat_template(messages, tokenize=False, add_generation_prompt=True)\n",
        "print(prompt)"
      ],
      "metadata": {
        "id": "UKcD_fy_7QYD"
      },
      "execution_count": null,
      "outputs": []
    },
    {
      "cell_type": "markdown",
      "source": [
        "## Generate!\n",
        "\n",
        "takes approx 40 secs on Colab T4"
      ],
      "metadata": {
        "id": "20K8tYJo7_7b"
      }
    },
    {
      "cell_type": "code",
      "source": [
        "outputs = pipe(prompt, max_new_tokens=256, do_sample=True, temperature=0.7, top_k=50, top_p=0.95)\n",
        "response_text = extract_response_text(outputs[0][\"generated_text\"])\n",
        "print(textwrap.fill(response_text, 80))"
      ],
      "metadata": {
        "id": "xc8RZR0b8Br2"
      },
      "execution_count": null,
      "outputs": []
    }
  ]
}